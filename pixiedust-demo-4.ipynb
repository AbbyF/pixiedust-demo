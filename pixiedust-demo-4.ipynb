{
 "cells": [
  {
   "cell_type": "code",
   "execution_count": 1,
   "metadata": {},
   "outputs": [
    {
     "name": "stdout",
     "output_type": "stream",
     "text": [
      "Pixiedust database opened successfully\n"
     ]
    },
    {
     "data": {
      "text/html": [
       "\n",
       "        <div style=\"margin:10px\">\n",
       "            <a href=\"https://github.com/ibm-watson-data-lab/pixiedust\" target=\"_new\">\n",
       "                <img src=\"https://github.com/ibm-watson-data-lab/pixiedust/raw/master/docs/_static/pd_icon32.png\" style=\"float:left;margin-right:10px\"/>\n",
       "            </a>\n",
       "            <span>Pixiedust version 1.1.2</span>\n",
       "        </div>\n",
       "        "
      ],
      "text/plain": [
       "<IPython.core.display.HTML object>"
      ]
     },
     "metadata": {},
     "output_type": "display_data"
    }
   ],
   "source": [
    "import pixiedust"
   ]
  },
  {
   "cell_type": "code",
   "execution_count": 2,
   "metadata": {},
   "outputs": [
    {
     "data": {
      "text/html": [
       "<style type=\"text/css\">.pd_warning{display:none;}</style><div class=\"pd_warning\"><em>Hey, there's something awesome here! To see it, open this notebook outside GitHub, in a viewer like Jupyter</em></div>"
      ],
      "text/plain": [
       "<IPython.core.display.HTML object>"
      ]
     },
     "metadata": {},
     "output_type": "display_data"
    }
   ],
   "source": [
    "from pixiedust.display.app import *\n",
    "\n",
    "@PixieApp\n",
    "class HelloWorldPixieApp:\n",
    "    @route()\n",
    "    def main(self):\n",
    "        return\"\"\"\n",
    "            <input pd_options=\"clicked=true\" type=\"button\" value=\"Click Me\">\n",
    "        \"\"\"\n",
    "    @route(clicked=\"true\")\n",
    "    def _clicked(self):\n",
    "        return \"\"\"\n",
    "            <input pd_options=\"clicked=false\" type=\"button\" value=\"You Clicked, Now Go back\">\n",
    "        \"\"\"\n",
    "#run the app\n",
    "HelloWorldPixieApp().run(runInDialog='false')"
   ]
  },
  {
   "cell_type": "code",
   "execution_count": 3,
   "metadata": {},
   "outputs": [
    {
     "data": {
      "text/html": [
       "<style type=\"text/css\">.pd_warning{display:none;}</style><div class=\"pd_warning\"><em>Hey, there's something awesome here! To see it, open this notebook outside GitHub, in a viewer like Jupyter</em></div>"
      ],
      "text/plain": [
       "<IPython.core.display.HTML object>"
      ]
     },
     "metadata": {},
     "output_type": "display_data"
    }
   ],
   "source": [
    "from pixiedust.display.app import *\n",
    "import pandas as pd\n",
    "import numpy as np\n",
    "\n",
    "@PixieApp\n",
    "class HelloWorldPixieAppWithData:\n",
    "    @route()\n",
    "    def main(self):\n",
    "        return\"\"\"\n",
    "        <div class=\"row\">\n",
    "           <div class=\"col-sm-2\">\n",
    "              <input pd_options=\"handlerId=dataframe\"\n",
    "                     pd_entity\n",
    "                     pd_target=\"target{{prefix}}\"\n",
    "                     type=\"button\" value=\"Preview Data\">\n",
    "           </div>\n",
    "           <div class=\"col-sm-10\" id=\"target{{prefix}}\"/>\n",
    "        </div>\n",
    "        \"\"\"\n",
    "\n",
    "dates = pd.date_range('20130101',periods=6)\n",
    "df = pd.DataFrame(np.random.randn(6,4),index=dates,columns=list('ABCD'))\n",
    "    \n",
    "#run the app\n",
    "HelloWorldPixieAppWithData().run(df, runInDialog='false')"
   ]
  },
  {
   "cell_type": "markdown",
   "metadata": {},
   "source": [
    "## Weather Forecast in a PixieApp\n",
    "\n",
    "The code for the PixieApp is divided into a few cells to make it easier to interpret:\n",
    "\n",
    "- CSS for the PixieApp\n",
    "- JS for the PixieApp\n",
    "- HTML for the PixieApp\n",
    "- PixieApp Python module"
   ]
  },
  {
   "cell_type": "code",
   "execution_count": 4,
   "metadata": {},
   "outputs": [],
   "source": [
    "import pandas as pd\n",
    "df = df = pd.read_csv('data/df.csv')\n",
    "current_df = pd.read_csv('data/current_df.csv')\n",
    "forecast_df = pd.read_csv('data/forecast_df.csv')"
   ]
  },
  {
   "cell_type": "code",
   "execution_count": 5,
   "metadata": {},
   "outputs": [],
   "source": [
    "# the CSS for the PixieApp\n",
    "# - provides some style\n",
    "\n",
    "weatherAppCSS = \"\"\"\n",
    "  .pixiedust-app.pixiedust-maximize .centerContainer {\n",
    "    padding: 0 !important;\n",
    "  }\n",
    "  .pixiedust-app.pixiedust-maximize .expandButton {\n",
    "    display: none;\n",
    "  }\n",
    "  .pixiedust-app .modal-header {\n",
    "    background-color: rgba(0,0,0,0.45); /*#01021F;*/\n",
    "    border-bottom: 1px solid #00b4a0;\n",
    "    padding: 10px 0 10px 0;\n",
    "  }\n",
    "  .pixiedust-app .modal-title {\n",
    "    color: #fff;\n",
    "    font-size: 18px;\n",
    "    padding-left: 20px;\n",
    "  }\n",
    "  .pixiedust .modal-header .close {\n",
    "    color: #00b4a0;\n",
    "    font-size: 30px;\n",
    "    font-weight: 400;\n",
    "    margin: -5px 60px 0 0;\n",
    "  }\n",
    "  .pixiedust-app .modal-content {\n",
    "    background-image: url(https://images.unsplash.com/photo-1454702762838-a6df8cc3517f);\n",
    "    background-repeat: no-repeat;\n",
    "    background-size: cover;\n",
    "    border-top: 0 none;\n",
    "  }\n",
    "  .pixiedust-app .modal-content::after {\n",
    "    top: 0;\n",
    "    left: 0;\n",
    "    height: 100%;\n",
    "    width: 100%;\n",
    "    content: \"\";\n",
    "    position: absolute;\n",
    "    display: block;\n",
    "    opacity: 0.5;\n",
    "    background: -webkit-linear-gradient(left, #1d3649 0%, #325C80 50%);\n",
    "    background: linear-gradient(to right, #1d3649 0%, #325C80 50%);\n",
    "  }\n",
    "  .pixiedust-app .modal-content > div {\n",
    "    position: relative;\n",
    "    z-index: 1;\n",
    "  }\n",
    "  .weather-app {\n",
    "    border: none;\n",
    "    height: 600px;\n",
    "    margin: 0;\n",
    "    padding: 0;\n",
    "    position: relative;\n",
    "  }\n",
    "  .pixiedust-app.pixiedust-maximize .weather-app {\n",
    "    height: 100%;\n",
    "  }\n",
    "  .weather-app > .row  {\n",
    "    margin: 0;\n",
    "    padding: 0;\n",
    "    position: relative;\n",
    "  }\n",
    "  .weather-app > .row:first-child {\n",
    "    height: 200px;\n",
    "  }\n",
    "  .weather-app > .row:last-child {\n",
    "    height: calc(100% - 205px);\n",
    "  }\n",
    "  .weather-app > .row > div {\n",
    "    height: 100%;\n",
    "    margin: 0;\n",
    "    padding: 10px;\n",
    "    position: relative;\n",
    "  }\n",
    "  .weather-app .app-info,\n",
    "  .weather-app .app-chart {\n",
    "    background-color: rgba(0, 0, 0, 0.55);\n",
    "    color: #fff;\n",
    "    height: 100%;\n",
    "    margin: 0;\n",
    "    padding: 10px;\n",
    "    position: relative;\n",
    "  }\n",
    "  .weather-app .app-title {\n",
    "    font-size: 20px;\n",
    "    color: #fff;\n",
    "    font-weight: 200;\n",
    "    border-bottom: 1px solid #00b4a0;\n",
    "    padding-bottom: 5px;\n",
    "  }\n",
    "  .weather-app .app-title > div:first-child,\n",
    "  .weather-app .title-target > div {\n",
    "    display: none;\n",
    "  }\n",
    "  .weather-app .app-title > div:last-child {\n",
    "    visibility: hidden;\n",
    "  }\n",
    "  .weather-app .app-copy {\n",
    "    padding: 10px;\n",
    "    font-size: 18px;\n",
    "  }\n",
    "  .weather-app #charts{{prefix}} {\n",
    "    height: calc(100% - 45px);\n",
    "    position: relative;\n",
    "    width: 100%;\n",
    "  }\n",
    "  .weather-app #map{{prefix}} {\n",
    "    height: calc(100% - 55px);\n",
    "    margin-top: 30px;\n",
    "    position: relative;\n",
    "    width: 100%;\n",
    "  }\n",
    "  .weather-app .btn-group {\n",
    "    border: 0 none;\n",
    "    bottom: 20px;\n",
    "    padding: 0;\n",
    "    position: absolute;\n",
    "    right: 20px;\n",
    "  }\n",
    "  .weather-app .btn {\n",
    "    background-color: #ab236f !important;\n",
    "    border: 2px solid #ab236f !important;\n",
    "    color: #fff !important;\n",
    "    font-weight: 400 !important;\n",
    "    margin: 0 !important;\n",
    "    min-width: 150px;\n",
    "  }\n",
    "  .weather-app .dropdown-menu {\n",
    "    border: 0 none;\n",
    "    border-radius: 0;\n",
    "    width: 100%;\n",
    "  }\n",
    "  .weather-app .dropdown-menu li {\n",
    "    color: #000 !important;\n",
    "  }\n",
    "  .weather-app .dropdown-menu li:hover {\n",
    "    background-color: #ab236f;\n",
    "    color: #fff !important;\n",
    "    cursor: pointer;\n",
    "  }\n",
    "    \"\"\""
   ]
  },
  {
   "cell_type": "code",
   "execution_count": 6,
   "metadata": {},
   "outputs": [],
   "source": [
    "# the HTML for the PixieApp\n",
    "# - provides the HTML structure\n",
    "\n",
    "weatherAppHTML = \"\"\"\n",
    "<div class=\"weather-app weather-app{{prefix}}\" pixiedust=\"{{pd_controls|htmlAttribute}}\">\n",
    "  <div class=\"row\">\n",
    "    <div class=\"col-xs-12\">\n",
    "      <div class=\"app-info\">\n",
    "        <div class=\"app-title\">Regional Weather Conditions</div>\n",
    "        <div class=\"app-copy\">\n",
    "          <p>This is a PixieApp utilizing The Weather Company API. The timeline in the lower right pane shows a forecast\n",
    "             for the selected weather condition and city. The Mapbox map in the lower left pane shows the selected weather\n",
    "             condition for various predefined locations. Clicking on a location will update the timeline\n",
    "             for the selected city.</p>\n",
    "          <div class=\"btn-group\">\n",
    "            <button class=\"btn btn-default btn-lg dropdown-toggle\" type=\"button\" data-toggle=\"dropdown\" aria-haspopup=\"true\" aria-expanded=\"false\">\n",
    "              <span class=\"title-target\" id=\"selected{{prefix}}\" pd_script=\"print(self.currentChartInfo['label'])\">Select a weather condition</span>\n",
    "              <i class=\"fa fa-chevron-down\" aria-hidden=\"true\"></i>\n",
    "            </button>\n",
    "            <ul class=\"dropdown-menu\">\n",
    "              {% for info in this.measures %}\n",
    "              <li data-info-value=\"{{info['valueField']}}\" pd_script=\"self.currentChartInfo={{ info }}\" onclick=\"javascript:updateSelected(this)\">\n",
    "                  {{info[\"label\"]}}\n",
    "                  <target pd_target=\"selected{{prefix}}\" pd_refresh=\"selected{{prefix}}\"/>\n",
    "                  <target pd_target=\"chartstitle{{prefix}}\" pd_refresh=\"chartstitle{{prefix}}\"/>\n",
    "                  <target pd_target=\"maptitle{{prefix}}\" pd_refresh=\"maptitle{{prefix}}\"/>\n",
    "                  <target pd_target=\"charts{{prefix}}\" pd_refresh=\"charts{{prefix}}\"/>\n",
    "                  <target pd_target=\"map{{prefix}}\" pd_refresh=\"map{{prefix}}\"/>\n",
    "              </li>\n",
    "              {% endfor %}\n",
    "            </ul>\n",
    "          </div>\n",
    "        </div>\n",
    "      </div>\n",
    "    </div>\n",
    "  </div>\n",
    "  <div class=\"row\" id=\"alltherows{{prefix}}\">\n",
    "    <div class=\"col-xs-6\">\n",
    "      <div class=\"app-chart\">\n",
    "        <div id=\"maptitle{{prefix}}\" class=\"app-title\" pd_script=\"print('{} across the Regions'.format(self.currentChartInfo['label']))\">Recent Weather Condition</div>\n",
    "        <div id=\"map{{prefix}}\" pd_entity=\"pixieapp_entity[1]\" pd_options=\"$val(mapOptions)\"></div>\n",
    "      </div>\n",
    "    </div>\n",
    "    <div class=\"col-xs-6\">\n",
    "      <div class=\"app-chart\">\n",
    "        <div id=\"chartstitle{{prefix}}\" class=\"app-title\" pd_script=\"print('{} Forecast for {}'.format(self.currentChartInfo['label'], self.selectedCity))\">Weather Condition Forecast</div>\n",
    "        <div id=\"charts{{prefix}}\" pd_entity=\"chartDF\" pd_options=\"$val(chartOptions)\"></div>\n",
    "      </div>\n",
    "    </div>\n",
    "    <pd_event_handler pd_origin=\"map{{prefix}}\" pd_script=\"self.loadCityDF(eventInfo['place'])\">\n",
    "      <target pd_target=\"chartstitle{{prefix}}\" pd_refresh=\"chartstitle{{prefix}}\"/>\n",
    "      <target pd_target=\"charts{{prefix}}\" pd_refresh=\"charts{{prefix}}\"/>\n",
    "    </pd_event_handler>\n",
    "  </div>\n",
    "</div>\n",
    "    \"\"\""
   ]
  },
  {
   "cell_type": "code",
   "execution_count": 7,
   "metadata": {},
   "outputs": [],
   "source": [
    "# @hidden_cell\n",
    "# Mapbox API access token: https://www.mapbox.com/studio/account/tokens/\n",
    "\n",
    "mapBoxToken = 'pk.eyJ1IjoicmFqcnNpbmdoIiwiYSI6ImNqM2s4ZDg4djAwcGYyd3BwaGxwaDV3bWoifQ.d5Rklkdu5MeGAnXu1GMNYw'"
   ]
  },
  {
   "cell_type": "code",
   "execution_count": 8,
   "metadata": {},
   "outputs": [],
   "source": [
    "# the JS for the PixieApp\n",
    "# - provides the options for the mapbox map\n",
    "# - provides the options for the timeline\n",
    "# - updates the selected weather conditions dropdown\n",
    "\n",
    "weatherAppJS = \"\"\"\n",
    "  function mapOptions() {{\n",
    "    return \"rendererId=mapbox;handlerId=mapView;keyFields=lat,lon;valueFields=\"\n",
    "      + $('li[data-info-value].selected, weather-app{{{{prefix}}}}').data('infoValue')\n",
    "      + \";kind=choropleth;basemap=light-v9;colorrampname=Light to Dark Red;coloropacity=100;preserveCols=place;sortby=place;legend=true\"\n",
    "      + \";mapboxtoken={0}\"\n",
    "  }}\n",
    "  function chartOptions() {{\n",
    "    return \"rendererId=bokeh;handlerId=lineChart;keyFields=date;aggregation=AVG;valueFields=\"\n",
    "      + $('li[data-info-value].selected, weather-app{{{{prefix}}}}').data('infoValue')\n",
    "      + \";legend=false;rowCount=10000;noChartCache=true;no_margin=true;chartsize=100\"\n",
    "  }}\n",
    "  function updateSelected(n) {{\n",
    "    $(n).addClass('selected').siblings('.selected').removeClass('selected')\n",
    "    $(n).closest(\".dropdown-menu\").prev().dropdown(\"toggle\")\n",
    "  }}\n",
    "\"\"\".format(mapBoxToken)"
   ]
  },
  {
   "cell_type": "code",
   "execution_count": 9,
   "metadata": {
    "pixiedust": {
     "displayParams": {
      "targetDivId": "dialoga621559aroot"
     }
    }
   },
   "outputs": [
    {
     "data": {
      "text/html": [
       "<style type=\"text/css\">.pd_warning{display:none;}</style><div class=\"pd_warning\"><em>Hey, there's something awesome here! To see it, open this notebook outside GitHub, in a viewer like Jupyter</em></div>"
      ],
      "text/plain": [
       "<IPython.core.display.HTML object>"
      ]
     },
     "metadata": {},
     "output_type": "display_data"
    },
    {
     "data": {
      "text/html": [
       "<style type=\"text/css\">.pd_warning{display:none;}</style><div class=\"pd_warning\"><em>Hey, there's something awesome here! To see it, open this notebook outside GitHub, in a viewer like Jupyter</em></div>"
      ],
      "text/plain": [
       "<IPython.core.display.HTML object>"
      ]
     },
     "metadata": {},
     "output_type": "display_data"
    },
    {
     "data": {
      "text/html": [
       "<style type=\"text/css\">.pd_warning{display:none;}</style><div class=\"pd_warning\"><em>Hey, there's something awesome here! To see it, open this notebook outside GitHub, in a viewer like Jupyter</em></div>"
      ],
      "text/plain": [
       "<IPython.core.display.HTML object>"
      ]
     },
     "metadata": {},
     "output_type": "display_data"
    },
    {
     "data": {
      "text/html": [
       "<style type=\"text/css\">.pd_warning{display:none;}</style><div class=\"pd_warning\"><em>Hey, there's something awesome here! To see it, open this notebook outside GitHub, in a viewer like Jupyter</em></div>"
      ],
      "text/plain": [
       "<IPython.core.display.HTML object>"
      ]
     },
     "metadata": {},
     "output_type": "display_data"
    },
    {
     "data": {
      "text/html": [
       "<style type=\"text/css\">.pd_warning{display:none;}</style><div class=\"pd_warning\"><em>Hey, there's something awesome here! To see it, open this notebook outside GitHub, in a viewer like Jupyter</em></div>"
      ],
      "text/plain": [
       "<IPython.core.display.HTML object>"
      ]
     },
     "metadata": {},
     "output_type": "display_data"
    },
    {
     "data": {
      "text/html": [
       "<style type=\"text/css\">.pd_warning{display:none;}</style><div class=\"pd_warning\"><em>Hey, there's something awesome here! To see it, open this notebook outside GitHub, in a viewer like Jupyter</em></div><script class=\"pd_save is-viewer-good\">\n",
       "                    if ( !window.Bokeh && !window.autoload){\n",
       "                        window.autoload=true;\n",
       "                        \n",
       "(function(global) {\n",
       "  function now() {\n",
       "    return new Date();\n",
       "  }\n",
       "\n",
       "  var force = true;\n",
       "\n",
       "  if (typeof (window._bokeh_onload_callbacks) === \"undefined\" || force === true) {\n",
       "    window._bokeh_onload_callbacks = [];\n",
       "    window._bokeh_is_loading = undefined;\n",
       "  }\n",
       "\n",
       "\n",
       "  \n",
       "  if (typeof (window._bokeh_timeout) === \"undefined\" || force === true) {\n",
       "    window._bokeh_timeout = Date.now() + 5000;\n",
       "    window._bokeh_failed_load = false;\n",
       "  }\n",
       "\n",
       "  var NB_LOAD_WARNING = {'data': {'text/html':\n",
       "     \"<div style='background-color: #fdd'>\\n\"+\n",
       "     \"<p>\\n\"+\n",
       "     \"BokehJS does not appear to have successfully loaded. If loading BokehJS from CDN, this \\n\"+\n",
       "     \"may be due to a slow or bad network connection. Possible fixes:\\n\"+\n",
       "     \"</p>\\n\"+\n",
       "     \"<ul>\\n\"+\n",
       "     \"<li>re-rerun `output_notebook()` to attempt to load from CDN again, or</li>\\n\"+\n",
       "     \"<li>use INLINE resources instead, as so:</li>\\n\"+\n",
       "     \"</ul>\\n\"+\n",
       "     \"<code>\\n\"+\n",
       "     \"from bokeh.resources import INLINE\\n\"+\n",
       "     \"output_notebook(resources=INLINE)\\n\"+\n",
       "     \"</code>\\n\"+\n",
       "     \"</div>\"}};\n",
       "\n",
       "  function display_loaded() {\n",
       "    if (window.Bokeh !== undefined) {\n",
       "      var el = document.getElementById(\"\");\n",
       "      el.textContent = \"BokehJS \" + Bokeh.version + \" successfully loaded.\";\n",
       "    } else if (Date.now() < window._bokeh_timeout) {\n",
       "      setTimeout(display_loaded, 100)\n",
       "    }\n",
       "  }\n",
       "\n",
       "  function run_callbacks() {\n",
       "    try {\n",
       "      window._bokeh_onload_callbacks.forEach(function(callback) { callback() });\n",
       "    }\n",
       "    finally {\n",
       "      delete window._bokeh_onload_callbacks\n",
       "    }\n",
       "    console.info(\"Bokeh: all callbacks have finished\");\n",
       "  }\n",
       "\n",
       "  function load_libs(js_urls, callback) {\n",
       "    window._bokeh_onload_callbacks.push(callback);\n",
       "    if (window._bokeh_is_loading > 0) {\n",
       "      console.log(\"Bokeh: BokehJS is being loaded, scheduling callback at\", now());\n",
       "      return null;\n",
       "    }\n",
       "    if (js_urls == null || js_urls.length === 0) {\n",
       "      run_callbacks();\n",
       "      return null;\n",
       "    }\n",
       "    console.log(\"Bokeh: BokehJS not loaded, scheduling load and callback at\", now());\n",
       "    window._bokeh_is_loading = js_urls.length;\n",
       "    for (var i = 0; i < js_urls.length; i++) {\n",
       "      var url = js_urls[i];\n",
       "      var s = document.createElement('script');\n",
       "      s.src = url;\n",
       "      s.async = false;\n",
       "      s.onreadystatechange = s.onload = function() {\n",
       "        window._bokeh_is_loading--;\n",
       "        if (window._bokeh_is_loading === 0) {\n",
       "          console.log(\"Bokeh: all BokehJS libraries loaded\");\n",
       "          run_callbacks()\n",
       "        }\n",
       "      };\n",
       "      s.onerror = function() {\n",
       "        console.warn(\"failed to load library \" + url);\n",
       "      };\n",
       "      console.log(\"Bokeh: injecting script tag for BokehJS library: \", url);\n",
       "      document.getElementsByTagName(\"head\")[0].appendChild(s);\n",
       "    }\n",
       "  };\n",
       "\n",
       "  var js_urls = [\"https://cdn.pydata.org/bokeh/release/bokeh-0.12.6.min.js\", \"https://cdn.pydata.org/bokeh/release/bokeh-widgets-0.12.6.min.js\"];\n",
       "\n",
       "  var inline_js = [\n",
       "    function(Bokeh) {\n",
       "      Bokeh.set_log_level(\"info\");\n",
       "    },\n",
       "    \n",
       "    function(Bokeh) {\n",
       "      \n",
       "    },\n",
       "    function(Bokeh) {\n",
       "      console.log(\"Bokeh: injecting CSS: https://cdn.pydata.org/bokeh/release/bokeh-0.12.6.min.css\");\n",
       "      Bokeh.embed.inject_css(\"https://cdn.pydata.org/bokeh/release/bokeh-0.12.6.min.css\");\n",
       "      console.log(\"Bokeh: injecting CSS: https://cdn.pydata.org/bokeh/release/bokeh-widgets-0.12.6.min.css\");\n",
       "      Bokeh.embed.inject_css(\"https://cdn.pydata.org/bokeh/release/bokeh-widgets-0.12.6.min.css\");\n",
       "    }\n",
       "  ];\n",
       "\n",
       "  function run_inline_js() {\n",
       "    \n",
       "    if ((window.Bokeh !== undefined) || (force === true)) {\n",
       "      for (var i = 0; i < inline_js.length; i++) {\n",
       "        inline_js[i](window.Bokeh);\n",
       "      }} else if (Date.now() < window._bokeh_timeout) {\n",
       "      setTimeout(run_inline_js, 100);\n",
       "    } else if (!window._bokeh_failed_load) {\n",
       "      console.log(\"Bokeh: BokehJS failed to load within specified timeout.\");\n",
       "      window._bokeh_failed_load = true;\n",
       "    } else if (force !== true) {\n",
       "      var cell = $(document.getElementById(\"\")).parents('.cell').data().cell;\n",
       "      cell.output_area.append_execute_result(NB_LOAD_WARNING)\n",
       "    }\n",
       "\n",
       "  }\n",
       "\n",
       "  if (window._bokeh_is_loading === 0) {\n",
       "    console.log(\"Bokeh: BokehJS loaded, going straight to plotting\");\n",
       "    run_inline_js();\n",
       "  } else {\n",
       "    load_libs(js_urls, function() {\n",
       "      console.log(\"Bokeh: BokehJS plotting callback run at\", now());\n",
       "      run_inline_js();\n",
       "    });\n",
       "  }\n",
       "}(this));  \n",
       "                    }\n",
       "                    </script>"
      ],
      "text/plain": [
       "<IPython.core.display.HTML object>"
      ]
     },
     "metadata": {},
     "output_type": "display_data"
    },
    {
     "data": {
      "text/html": [
       "<style type=\"text/css\">.pd_warning{display:none;}</style><div class=\"pd_warning\"><em>Hey, there's something awesome here! To see it, open this notebook outside GitHub, in a viewer like Jupyter</em></div>"
      ],
      "text/plain": [
       "<IPython.core.display.HTML object>"
      ]
     },
     "metadata": {},
     "output_type": "display_data"
    },
    {
     "data": {
      "text/html": [
       "<style type=\"text/css\">.pd_warning{display:none;}</style><div class=\"pd_warning\"><em>Hey, there's something awesome here! To see it, open this notebook outside GitHub, in a viewer like Jupyter</em></div>"
      ],
      "text/plain": [
       "<IPython.core.display.HTML object>"
      ]
     },
     "metadata": {},
     "output_type": "display_data"
    }
   ],
   "source": [
    "from pixiedust.display.app import *\n",
    "\n",
    "@PixieApp\n",
    "class WeatherApp:\n",
    "    def getDialogOptions(self):\n",
    "        return {\n",
    "            'title': '#ODSC London 2017',\n",
    "            'maximize': 'true'\n",
    "        }\n",
    "    \n",
    "    def setup(self):\n",
    "#         self.url = 'https://github.com/ibm-cds-labs/python-notebooks/blob/master/weathericons/icon'+str(icon)+'.png?raw=true'\n",
    "        self.measures = [\n",
    "            {\"label\": \"Temperature [F]\", \"valueField\": \"temperature\"},\n",
    "            {\"label\": \"Temperature [C]\", \"valueField\": \"temperatureC\"},\n",
    "            {\"label\": \"Chance of Rain [%]\", \"valueField\": \"chance of rain\"},\n",
    "            {\"label\": \"Relative Humidity [%]\", \"valueField\": \"humidity\"},\n",
    "            {\"label\": \"Wind Speed [mph]\", \"valueField\": \"wind speed\"}\n",
    "        ]\n",
    "        self.loadCityDF('London')\n",
    "        \n",
    "    def loadCityDF(self, place):\n",
    "        self.selectedCity = place\n",
    "        self.cityDF = forecast_df.loc[forecast_df[\"place\"] == place]\n",
    "    @property\n",
    "    def chartDF(self):\n",
    "        return self.cityDF if hasattr(self, \"cityDF\") else forecast_df.loc[forecast_df[\"place\"]=='London']\n",
    "        \n",
    "    @route()\n",
    "    def main(self):\n",
    "        return '<style>{}</style><script>{}</script>{}'.format(weatherAppCSS, weatherAppJS, weatherAppHTML)\n",
    "    \n",
    "# run the app\n",
    "dfs = [forecast_df, current_df]\n",
    "\n",
    "WeatherApp().run(dfs, runInDialog='true')    "
   ]
  },
  {
   "cell_type": "code",
   "execution_count": 10,
   "metadata": {},
   "outputs": [
    {
     "name": "stdout",
     "output_type": "stream",
     "text": [
      "2017-11-21 09:24:43,748 - pixiedust.utils.storage - INFO - No change in version: 1.1.2 -> 1.1.2.\n",
      "2017-11-21 09:24:50,500 - pixiedust.display - DEBUG - Creating a new display handler with options {'nostore_pixieapp': 'HelloWorldPixieApp_instance', 'nostore_ispix': 'true', 'runInDialog': 'false', 'handlerId': '__main___HelloWorldPixieApp_id'}: <pixiedust.display.display.CellHandshakeMeta object at 0x10fdadd30>\n",
      "2017-11-21 09:24:51,256 - pixiedust.display - DEBUG - Creating a new display handler with options {'nostore_pixieapp': 'HelloWorldPixieApp_instance', 'nostore_ispix': 'true', 'runInDialog': 'false', 'handlerId': '__main___HelloWorldPixieApp_id', 'cell_id': 'EAA199EB45154CD7BD7A603B7A2FDDC9', 'nostore_pixiedust': 'true', 'nostore_cw': '1098', 'org_params': 'nostore_pixieapp,nostore_ispix,runInDialog,handlerId,nostore_pixiedust', 'nostore_bokeh': 'true', 'showchrome': 'true'}: <abc.__main___HelloWorldPixieApp_Meta object at 0x10fdadb70>\n",
      "2017-11-21 09:24:51,345 - pixiedust.display - DEBUG - Creating a new display handler with options {'nostore_pixieapp': 'HelloWorldPixieApp_instance', 'nostore_ispix': 'true', 'runInDialog': 'false', 'handlerId': '__main___HelloWorldPixieApp_id', 'cell_id': 'EAA199EB45154CD7BD7A603B7A2FDDC9', 'nostore_pixiedust': 'true', 'nostore_cw': '1098', 'org_params': 'nostore_pixieapp,nostore_ispix,runInDialog,handlerId,nostore_pixiedust', 'nostore_bokeh': 'true', 'prefix': 'b954dc7a'}: <abc.__main___HelloWorldPixieApp_Meta object at 0x10fdadb70>\n",
      "2017-11-21 09:25:07,919 - pixiedust.display - DEBUG - Creating a new display handler with options {'nostore_pixieapp': 'HelloWorldPixieApp_instance', 'nostore_ispix': 'true', 'runInDialog': 'false', 'handlerId': '__main___HelloWorldPixieApp_id', 'cell_id': 'EAA199EB45154CD7BD7A603B7A2FDDC9', 'nostore_pixiedust': 'true', 'nostore_cw': '1098', 'org_params': 'nostore_pixieapp,nostore_ispix,runInDialog,handlerId,nostore_pixiedust', 'nostore_bokeh': 'true', 'clicked': 'true', 'nostore_figureOnly': 'true'}: <abc.__main___HelloWorldPixieApp_Meta object at 0x10fdadb70>\n",
      "2017-11-21 09:25:07,919 - pixiedust.display.display.Display - DEBUG - match found: {'clicked': 'true'}\n",
      "2017-11-21 09:25:07,919 - pixiedust.display.display.Display - DEBUG - Injected args: OrderedDict()\n",
      "2017-11-21 09:25:08,902 - pixiedust.display - DEBUG - Creating a new display handler with options {'nostore_pixieapp': 'HelloWorldPixieApp_instance', 'nostore_ispix': 'true', 'runInDialog': 'false', 'handlerId': '__main___HelloWorldPixieApp_id', 'cell_id': 'EAA199EB45154CD7BD7A603B7A2FDDC9', 'nostore_pixiedust': 'true', 'nostore_cw': '1098', 'org_params': 'nostore_pixieapp,nostore_ispix,runInDialog,handlerId,nostore_pixiedust', 'nostore_bokeh': 'true', 'clicked': 'false', 'nostore_figureOnly': 'true'}: <abc.__main___HelloWorldPixieApp_Meta object at 0x10fdadb70>\n",
      "2017-11-21 09:25:09,710 - pixiedust.display - DEBUG - Creating a new display handler with options {'nostore_pixieapp': 'HelloWorldPixieApp_instance', 'nostore_ispix': 'true', 'runInDialog': 'false', 'handlerId': '__main___HelloWorldPixieApp_id', 'cell_id': 'EAA199EB45154CD7BD7A603B7A2FDDC9', 'nostore_pixiedust': 'true', 'nostore_cw': '1098', 'org_params': 'nostore_pixieapp,nostore_ispix,runInDialog,handlerId,nostore_pixiedust', 'nostore_bokeh': 'true', 'clicked': 'true', 'nostore_figureOnly': 'true'}: <abc.__main___HelloWorldPixieApp_Meta object at 0x10fdadb70>\n",
      "2017-11-21 09:25:09,710 - pixiedust.display.display.Display - DEBUG - match found: {'clicked': 'true'}\n",
      "2017-11-21 09:25:09,710 - pixiedust.display.display.Display - DEBUG - Injected args: OrderedDict()\n",
      "2017-11-21 09:25:10,543 - pixiedust.display - DEBUG - Creating a new display handler with options {'nostore_pixieapp': 'HelloWorldPixieApp_instance', 'nostore_ispix': 'true', 'runInDialog': 'false', 'handlerId': '__main___HelloWorldPixieApp_id', 'cell_id': 'EAA199EB45154CD7BD7A603B7A2FDDC9', 'nostore_pixiedust': 'true', 'nostore_cw': '1098', 'org_params': 'nostore_pixieapp,nostore_ispix,runInDialog,handlerId,nostore_pixiedust', 'nostore_bokeh': 'true', 'clicked': 'false', 'nostore_figureOnly': 'true'}: <abc.__main___HelloWorldPixieApp_Meta object at 0x10fdadb70>\n",
      "2017-11-21 09:25:15,110 - pixiedust.display - DEBUG - Creating a new display handler with options {'nostore_pixieapp': 'HelloWorldPixieAppWithData_instance', 'nostore_ispix': 'true', 'runInDialog': 'false', 'handlerId': '__main___HelloWorldPixieAppWithData_id'}: <pixiedust.display.display.CellHandshakeMeta object at 0x1a1103af98>\n",
      "2017-11-21 09:25:15,857 - pixiedust.display - DEBUG - Creating a new display handler with options {'nostore_pixieapp': 'HelloWorldPixieAppWithData_instance', 'nostore_ispix': 'true', 'runInDialog': 'false', 'handlerId': '__main___HelloWorldPixieAppWithData_id', 'cell_id': '5F301E5C85CD4C9E9F34B43472968735', 'nostore_pixiedust': 'true', 'nostore_cw': '1098', 'org_params': 'nostore_pixieapp,nostore_ispix,runInDialog,handlerId,nostore_pixiedust', 'nostore_bokeh': 'true', 'showchrome': 'true'}: <abc.__main___HelloWorldPixieAppWithData_Meta object at 0x1a1103ab70>\n",
      "2017-11-21 09:25:15,950 - pixiedust.display - DEBUG - Creating a new display handler with options {'nostore_pixieapp': 'HelloWorldPixieAppWithData_instance', 'nostore_ispix': 'true', 'runInDialog': 'false', 'handlerId': '__main___HelloWorldPixieAppWithData_id', 'cell_id': '5F301E5C85CD4C9E9F34B43472968735', 'nostore_pixiedust': 'true', 'nostore_cw': '1098', 'org_params': 'nostore_pixieapp,nostore_ispix,runInDialog,handlerId,nostore_pixiedust', 'nostore_bokeh': 'true', 'prefix': '1e4cc287'}: <abc.__main___HelloWorldPixieAppWithData_Meta object at 0x1a1103ab70>\n",
      "2017-11-21 09:25:18,339 - pixiedust.display - DEBUG - Creating a new display handler with options {'nostore_pixieapp': 'HelloWorldPixieAppWithData_instance', 'nostore_ispix': 'true', 'runInDialog': 'false', 'handlerId': 'dataframe', 'cell_id': '5F301E5C85CD4C9E9F34B43472968735', 'nostore_pixiedust': 'true', 'nostore_cw': '823', 'org_params': 'nostore_pixieapp,nostore_ispix,runInDialog,handlerId,nostore_pixiedust', 'nostore_bokeh': 'true', 'nostore_figureOnly': 'true', 'targetDivId': 'target1e4cc287', 'no_margin': 'true'}: <pixiedust.display.table.TableDisplayMeta object at 0x10fd1d1d0>\n",
      "2017-11-21 09:25:19,369 - pixiedust.display - DEBUG - Creating a new display handler with options {'nostore_pixieapp': 'HelloWorldPixieAppWithData_instance', 'nostore_ispix': 'true', 'runInDialog': 'false', 'handlerId': 'dataframe', 'cell_id': '5F301E5C85CD4C9E9F34B43472968735', 'nostore_pixiedust': 'true', 'nostore_cw': '823', 'org_params': 'nostore_pixieapp,nostore_ispix,runInDialog,handlerId,nostore_pixiedust', 'nostore_bokeh': 'true', 'nostore_figureOnly': 'true', 'targetDivId': 'target1e4cc287', 'no_margin': 'true'}: <pixiedust.display.table.TableDisplayMeta object at 0x10fd1d1d0>\n",
      "2017-11-21 09:25:34,520 - pixiedust.display - DEBUG - Creating a new display handler with options {'nostore_pixieapp': 'WeatherApp_instance', 'nostore_ispix': 'true', 'runInDialog': 'true', 'title': '#ODSC London 2017', 'maximize': 'true', 'handlerId': '__main___WeatherApp_id'}: <pixiedust.display.display.CellHandshakeMeta object at 0x1a1103aa90>\n",
      "2017-11-21 09:25:35,265 - pixiedust.display - DEBUG - Creating a new display handler with options {'nostore_pixieapp': 'WeatherApp_instance', 'nostore_ispix': 'true', 'runInDialog': 'true', 'title': '#ODSC London 2017', 'maximize': 'true', 'handlerId': '__main___WeatherApp_id', 'cell_id': 'C8C1D8BBD95C4E2E83F2DA471C384498', 'nostore_pixiedust': 'true', 'targetDivId': 'dialoga621559aroot', 'nostore_cw': '1098', 'org_params': 'nostore_pixieapp,nostore_ispix,runInDialog,title,maximize,handlerId,nostore_pixiedust', 'nostore_bokeh': 'true', 'showchrome': 'true'}: <pixiedust.display.display.RunInDialogMeta object at 0x10fdbbe48>\n",
      "2017-11-21 09:25:35,265 - pixiedust.display.display.Display - DEBUG - In RunInDialog\n",
      "2017-11-21 09:25:35,780 - pixiedust.display - DEBUG - Creating a new display handler with options {'nostore_pixieapp': 'WeatherApp_instance', 'nostore_ispix': 'true', 'title': '#ODSC London 2017', 'maximize': 'true', 'handlerId': '__main___WeatherApp_id', 'cell_id': 'C8C1D8BBD95C4E2E83F2DA471C384498', 'nostore_pixiedust': 'true', 'targetDivId': 'dialogef77274aroot', 'nostore_cw': '1098', 'org_params': 'nostore_pixieapp,nostore_ispix,runInDialog,title,maximize,handlerId,nostore_pixiedust', 'nostore_bokeh': 'true', 'showchrome': 'true'}: <abc.__main___WeatherApp_Meta object at 0x1a1103af28>\n",
      "2017-11-21 09:25:35,998 - pixiedust.display - DEBUG - Creating a new display handler with options {'nostore_pixieapp': 'WeatherApp_instance', 'nostore_ispix': 'true', 'title': '#ODSC London 2017', 'maximize': 'true', 'handlerId': '__main___WeatherApp_id', 'cell_id': 'C8C1D8BBD95C4E2E83F2DA471C384498', 'nostore_pixiedust': 'true', 'targetDivId': 'dialogef77274aroot', 'nostore_cw': '1098', 'org_params': 'nostore_pixieapp,nostore_ispix,runInDialog,title,maximize,handlerId,nostore_pixiedust', 'nostore_bokeh': 'true', 'prefix': 'a84210ae'}: <abc.__main___WeatherApp_Meta object at 0x1a1103af28>\n",
      "2017-11-21 09:25:39,978 - pixiedust.display - DEBUG - Creating a new display handler with options {'nostore_pixieapp': 'WeatherApp_instance', 'nostore_ispix': 'true', 'title': '#ODSC London 2017', 'maximize': 'true', 'handlerId': '__main___WeatherApp_id', 'cell_id': 'C8C1D8BBD95C4E2E83F2DA471C384498', 'nostore_pixiedust': 'true', 'targetDivId': 'selecteda84210ae', 'nostore_cw': '202', 'org_params': 'nostore_pixieapp,nostore_ispix,runInDialog,title,maximize,handlerId,nostore_pixiedust', 'nostore_bokeh': 'true', 'prefix': 'a84210ae', 'nostore_figureOnly': 'true', 'no_margin': 'true', 'nostore_ch': '10'}: <abc.__main___WeatherApp_Meta object at 0x1a1103af28>\n",
      "2017-11-21 09:25:40,006 - pixiedust.display - DEBUG - Creating a new display handler with options {'nostore_pixieapp': 'WeatherApp_instance', 'nostore_ispix': 'true', 'title': '#ODSC London 2017', 'maximize': 'true', 'handlerId': '__main___WeatherApp_id', 'cell_id': 'C8C1D8BBD95C4E2E83F2DA471C384498', 'nostore_pixiedust': 'true', 'targetDivId': 'selecteda84210ae', 'nostore_cw': '202', 'org_params': 'nostore_pixieapp,nostore_ispix,runInDialog,title,maximize,handlerId,nostore_pixiedust', 'nostore_bokeh': 'true', 'prefix': 'a84210ae', 'nostore_figureOnly': 'true', 'no_margin': 'true', 'nostore_ch': '10'}: <abc.__main___WeatherApp_Meta object at 0x1a1103af28>\n",
      "2017-11-21 09:25:40,035 - pixiedust.display - DEBUG - Creating a new display handler with options {'nostore_pixieapp': 'WeatherApp_instance', 'nostore_ispix': 'true', 'title': '#ODSC London 2017', 'maximize': 'true', 'handlerId': '__main___WeatherApp_id', 'cell_id': 'C8C1D8BBD95C4E2E83F2DA471C384498', 'nostore_pixiedust': 'true', 'targetDivId': 'chartstitlea84210ae', 'nostore_cw': '659', 'org_params': 'nostore_pixieapp,nostore_ispix,runInDialog,title,maximize,handlerId,nostore_pixiedust', 'nostore_bokeh': 'true', 'prefix': 'a84210ae', 'nostore_figureOnly': 'true', 'no_margin': 'true', 'nostore_ch': '14'}: <abc.__main___WeatherApp_Meta object at 0x1a1103af28>\n",
      "2017-11-21 09:25:40,086 - pixiedust.display - DEBUG - Creating a new display handler with options {'nostore_pixieapp': 'WeatherApp_instance', 'nostore_ispix': 'true', 'title': '#ODSC London 2017', 'maximize': 'true', 'handlerId': '__main___WeatherApp_id', 'cell_id': 'C8C1D8BBD95C4E2E83F2DA471C384498', 'nostore_pixiedust': 'true', 'targetDivId': 'maptitlea84210ae', 'nostore_cw': '659', 'org_params': 'nostore_pixieapp,nostore_ispix,runInDialog,title,maximize,handlerId,nostore_pixiedust', 'nostore_bokeh': 'true', 'prefix': 'a84210ae', 'nostore_figureOnly': 'true', 'no_margin': 'true', 'nostore_ch': '14'}: <abc.__main___WeatherApp_Meta object at 0x1a1103af28>\n",
      "2017-11-21 09:25:40,117 - pixiedust.display - DEBUG - Creating a new display handler with options {'nostore_pixieapp': 'WeatherApp_instance', 'nostore_ispix': 'true', 'title': '#ODSC London 2017', 'maximize': 'true', 'handlerId': 'lineChart', 'cell_id': 'C8C1D8BBD95C4E2E83F2DA471C384498', 'nostore_pixiedust': 'true', 'targetDivId': 'chartsa84210ae', 'nostore_cw': '659', 'org_params': 'nostore_pixieapp,nostore_ispix,runInDialog,title,maximize,handlerId,nostore_pixiedust', 'nostore_bokeh': 'true', 'prefix': 'a84210ae', 'rendererId': 'bokeh', 'keyFields': 'date', 'aggregation': 'AVG', 'valueFields': 'temperatureC', 'legend': 'false', 'rowCount': '10000', 'noChartCache': 'true', 'no_margin': 'true', 'chartsize': '100', 'nostore_figureOnly': 'true', 'nostore_ch': '349'}: <pixiedust.display.chart.ChartDisplayMeta object at 0x10d9a35f8>\n",
      "2017-11-21 09:25:40,136 - pixiedust.display.chart.renderers - DEBUG - Found renderer: bokeh - lineChart\n",
      "2017-11-21 09:25:40,153 - pixiedust.display.chart.renderers.baseChartDisplay - DEBUG - No Cache Entry found for C8C1D8BBD95C4E2E83F2DA471C384498\n",
      "2017-11-21 09:25:40,222 - pixiedust.display.display.Display - DEBUG - chartOptions [{'name': 'chartsize', 'description': 'Chart Size', 'metadata': {'type': 'slider', 'max': 100, 'min': 50, 'default': 100}}, {'name': 'clusterby', 'description': 'Cluster By', 'refresh': True, 'metadata': {'type': 'dropdown', 'values': ['None', 'Unnamed: 0', 'chance of rain', 'clds', 'daypart_name', 'dow', 'humidity', 'icon_code', 'index', 'lat', 'lon', 'phrase_32char', 'place', 'precip_type', 'temperature', 'wdir', 'wind speed'], 'default': ''}, 'validate': <function clusterBy.<locals>.<lambda> at 0x10fdca620>}, {'name': 'timeseries', 'description': 'Time Series', 'metadata': {'type': 'checkbox', 'default': 'false'}}, {'name': 'legend', 'description': 'Show legend', 'metadata': {'type': 'checkbox', 'default': 'false'}}, {'name': 'logx', 'description': 'log scale on x', 'metadata': {'type': 'checkbox', 'default': 'false'}}, {'name': 'logy', 'description': 'log scale on y', 'metadata': {'type': 'checkbox', 'default': 'false'}}]\n",
      "2017-11-21 09:25:40,223 - pixiedust.utils.template - DEBUG - Template already qualified pixiedust.display.chart.renderers.baseChartDisplay:baseChartOptionsDialogBody.html\n",
      "2017-11-21 09:25:40,538 - pixiedust.display - DEBUG - Creating a new display handler with options {'nostore_pixieapp': 'WeatherApp_instance', 'nostore_ispix': 'true', 'title': '#ODSC London 2017', 'maximize': 'true', 'handlerId': '__main___WeatherApp_id', 'cell_id': 'C8C1D8BBD95C4E2E83F2DA471C384498', 'nostore_pixiedust': 'true', 'targetDivId': 'chartsa84210ae', 'nostore_cw': '659', 'org_params': 'nostore_pixieapp,nostore_ispix,runInDialog,title,maximize,handlerId,nostore_pixiedust', 'nostore_bokeh': 'true', 'prefix': 'a84210ae', 'nostore_figureOnly': 'true', 'no_margin': 'true', 'nostore_ch': '349'}: <abc.__main___WeatherApp_Meta object at 0x1a1103af28>\n",
      "2017-11-21 09:25:40,564 - pixiedust.display - DEBUG - Creating a new display handler with options {'nostore_pixieapp': 'WeatherApp_instance', 'nostore_ispix': 'true', 'title': '#ODSC London 2017', 'maximize': 'true', 'handlerId': 'mapView', 'cell_id': 'C8C1D8BBD95C4E2E83F2DA471C384498', 'nostore_pixiedust': 'true', 'targetDivId': 'mapa84210ae', 'nostore_cw': '659', 'org_params': 'nostore_pixieapp,nostore_ispix,runInDialog,title,maximize,handlerId,nostore_pixiedust', 'nostore_bokeh': 'true', 'prefix': 'a84210ae', 'rendererId': 'mapbox', 'keyFields': 'lat,lon', 'valueFields': 'temperatureC', 'kind': 'choropleth', 'basemap': 'light-v9', 'colorrampname': 'Light to Dark Red', 'coloropacity': '100', 'preserveCols': 'place', 'sortby': 'place', 'legend': 'true', 'mapboxtoken': 'pk.eyJ1IjoicmFqcnNpbmdoIiwiYSI6ImNqM2s4ZDg4djAwcGYyd3BwaGxwaDV3bWoifQ.d5Rklkdu5MeGAnXu1GMNYw', 'nostore_figureOnly': 'true', 'no_margin': 'true', 'nostore_ch': '339'}: <pixiedust.display.chart.ChartDisplayMeta object at 0x10d9a35f8>\n",
      "2017-11-21 09:25:40,567 - pixiedust.display.chart.renderers - DEBUG - Found renderer: mapbox - mapView\n",
      "2017-11-21 09:25:40,585 - pixiedust.display.display.Display - DEBUG - chartOptions [{'name': 'legend', 'description': 'Show legend', 'metadata': {'type': 'checkbox', 'default': 'true'}}, {'name': 'chartsize', 'description': 'Map Size', 'metadata': {'type': 'slider', 'max': 100, 'min': 50, 'default': 90}}, {'name': 'coloropacity', 'description': 'Opacity', 'metadata': {'type': 'slider', 'max': 100, 'min': 0, 'default': 80}}, {'name': 'kind', 'description': 'Style', 'metadata': {'type': 'dropdown', 'values': ['simple', 'simple-cluster', 'choropleth', 'choropleth-cluster', 'densitymap'], 'default': 'simple'}}, {'name': 'colorrampname', 'description': 'Color Ramp', 'metadata': {'type': 'dropdown', 'values': ['Yellow to Blue', 'Light to Dark Red', 'Grayscale', 'Orange to Purple'], 'default': 'Yellow to Blue'}}, {'name': 'basemap', 'metadata': {'type': 'dropdown', 'values': ['light-v9', 'satellite-v9', 'dark-v9', 'outdoors-v9'], 'default': 'light-v9'}}]\n",
      "2017-11-21 09:25:40,585 - pixiedust.utils.template - DEBUG - Template already qualified pixiedust.display.chart.renderers.mapbox.mapBoxBaseDisplay:mapViewOptionsDialogBody.html\n",
      "2017-11-21 09:25:40,871 - pixiedust.display.chart.renderers.baseChartDisplay - DEBUG - No Cache Entry found for C8C1D8BBD95C4E2E83F2DA471C384498\n",
      "2017-11-21 09:25:41,015 - pixiedust.display.display.Display - DEBUG - userlayers length: 0\n"
     ]
    }
   ],
   "source": [
    "%pixiedustLog -l debug"
   ]
  },
  {
   "cell_type": "code",
   "execution_count": null,
   "metadata": {
    "collapsed": true
   },
   "outputs": [],
   "source": []
  },
  {
   "cell_type": "code",
   "execution_count": null,
   "metadata": {
    "collapsed": true
   },
   "outputs": [],
   "source": []
  }
 ],
 "metadata": {
  "kernelspec": {
   "display_name": "Python3 with Pixiedust (Spark 2.2)",
   "language": "python",
   "name": "python3withpixiedustspark22"
  },
  "language_info": {
   "codemirror_mode": {
    "name": "ipython",
    "version": 3
   },
   "file_extension": ".py",
   "mimetype": "text/x-python",
   "name": "python",
   "nbconvert_exporter": "python",
   "pygments_lexer": "ipython3",
   "version": "3.6.2"
  }
 },
 "nbformat": 4,
 "nbformat_minor": 2
}
